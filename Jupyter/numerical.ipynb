{
 "cells": [
  {
   "cell_type": "markdown",
   "metadata": {},
   "source": [
    "# Stereo setup\n",
    "\n",
    "\n",
    "<img src=\"img/stereo_setup.svg\" width=\"80%\"/>"
   ]
  },
  {
   "cell_type": "markdown",
   "metadata": {},
   "source": [
    "The setup we discuss in this notebook is shown above. Without loss of generality we assume that the cameras have identical parameters focal length $f$, angular horizontal field of view (afovh), and horizontal en vertical resolution $R_h$ and $R_v$. The relative pose between the cameras is assumed to only have a positive translation in $x$ direction, and the coordinate system we use as reference (also known as the world frame) is equal to the camera frame of the left camera (camera 1)."
   ]
  },
  {
   "cell_type": "code",
   "execution_count": 1,
   "metadata": {},
   "outputs": [],
   "source": [
    "import numpy as np"
   ]
  },
  {
   "cell_type": "markdown",
   "metadata": {},
   "source": [
    "# Numerical approach\n",
    "\n",
    "First set the stereo setup's defining parameters. The angular field of view (`afovh`, $\\alpha_h$) is set to 50°, the focal length (`f`, $f$) is set to 4.3mm (0.0043m). The horizontal resolution (`R_h`, $R_h$) of both cameras is set to 320 pixels. The distance between the camera's (`b`, $b$) can be varied but should be expressed in meters. The vertical resolution ('R_v', $R_v$) is also declared, this way we have the complete camera defined even if we only want to 'feed' it 2D coordinates."
   ]
  },
  {
   "cell_type": "code",
   "execution_count": 2,
   "metadata": {},
   "outputs": [],
   "source": [
    "afovh = 50.  # in degrees\n",
    "f = 0.0043  # in meters\n",
    "R_h = 320  # in number of pixels\n",
    "R_v = 240  # in number of pixels\n",
    "b = 6.  # in meters"
   ]
  },
  {
   "cell_type": "markdown",
   "metadata": {},
   "source": [
    "In an ideal camera it can be assumed that the principal point of the image sensor is exactly in its center, so we can set the row ($v_0$) and column ($u_0$) displacement of the projection as follows:"
   ]
  },
  {
   "cell_type": "code",
   "execution_count": 3,
   "metadata": {},
   "outputs": [],
   "source": [
    "u_0 = R_h // 2  # Double slash to get an integer back instead of float\n",
    "v_0 = R_v // 2"
   ]
  },
  {
   "cell_type": "markdown",
   "metadata": {},
   "source": [
    "Next the image sensor width can be determined with the angular field of view and the focal length, knowing that the focal length and the image sensor are perpendicular. Half of the image sensor forms a right-angled triangle with the focal length and with half of the angular field of view as angle, therefore the following holds:\n",
    "$$ I_w = 2\\tan\\left(\\frac{\\alpha_h}{2}\\right)f$$\n",
    "We also define the image height to get the complete picture (no pun intended)."
   ]
  },
  {
   "cell_type": "code",
   "execution_count": 4,
   "metadata": {},
   "outputs": [],
   "source": [
    "I_w = 2 * np.tan(np.radians(afovh/2)) * f\n",
    "I_h = I_w / R_h * R_v"
   ]
  },
  {
   "cell_type": "markdown",
   "metadata": {},
   "source": [
    "Next the pixel width (`rho_w`, $\\rho_w$) can be determined by dividing the image sensor width by the horizontal resolution. The same can be done for the pixel heigth, but by definition that will be the same in our case."
   ]
  },
  {
   "cell_type": "code",
   "execution_count": 5,
   "metadata": {},
   "outputs": [],
   "source": [
    "rho_w = I_w/R_h\n",
    "rho_h = I_h/R_v"
   ]
  },
  {
   "cell_type": "markdown",
   "metadata": {},
   "source": [
    "Since we have two cameras which are only translated with respect to each other, we take the the camera frame of the first (left) camera as a world frame. Then we need to define the pose of the second camera as expressed in the world frame. This can be expressed as a 4x4 homogeneous transformation matrix."
   ]
  },
  {
   "cell_type": "code",
   "execution_count": 6,
   "metadata": {},
   "outputs": [],
   "source": [
    "T = np.array([[1, 0, 0, b],\n",
    "              [0, 1, 0, 0],\n",
    "              [0, 0, 1, 0],\n",
    "              [0, 0, 0, 1]])"
   ]
  },
  {
   "cell_type": "markdown",
   "metadata": {},
   "source": [
    "Actually to transform coordinates from the world frame (which is the first camera frame) to the second camera frame, in which the projection works, we need the inverse of this relative pose. For homogeneous transformation matrices, the inverse can be determined quite simply, if\n",
    "$$ \\mathbf{T} = \\begin{pmatrix} \\mathbf{R} & \\mathbf{t} \\\\ \\mathbf{0} & 1 \\end{pmatrix} $$\n",
    "where $\\mathbf{R}$ is the 3x3 rotation matrix and $\\mathbf{t}$ is the 3x1 translation vector, then the inverse of $\\mathbf{T}$ is:\n",
    "$$ \\mathbf{T}^{-1} = \\begin{pmatrix} \\mathbf{R}^{\\mathrm{T}} & -\\mathbf{R}^{\\mathrm{T}}\\mathbf{t} \\\\ \\mathbf{0} & 1 \\end{pmatrix} $$\n",
    "For convenience, we define a function to do this:"
   ]
  },
  {
   "cell_type": "code",
   "execution_count": 7,
   "metadata": {},
   "outputs": [
    {
     "data": {
      "text/plain": [
       "array([[ 1.,  0.,  0., -6.],\n",
       "       [ 0.,  1.,  0.,  0.],\n",
       "       [ 0.,  0.,  1.,  0.],\n",
       "       [ 0.,  0.,  0.,  1.]])"
      ]
     },
     "execution_count": 7,
     "metadata": {},
     "output_type": "execute_result"
    }
   ],
   "source": [
    "def inverse_transformation(T):\n",
    "    R, t = T[:-2, :-2], T[:-2, -1]\n",
    "    T_inv = np.array(T)\n",
    "    T_inv[:-2, :-2] = R.T\n",
    "    T_inv[:-2, -1] = np.dot(-R.T, t)\n",
    "    return T_inv\n",
    "\n",
    "T_inv = inverse_transformation(T)\n",
    "T_inv"
   ]
  },
  {
   "cell_type": "markdown",
   "metadata": {},
   "source": [
    "Now with all camera parameters set, we can define the projection of 3D points defined in the world frame onto the image plane of the cameras and expressed in pixel points w.r.t. the top-left pixel which is defined as $(0,0)$.\n",
    "\n",
    "The projection consists of three parts:\n",
    "\n",
    "1. 3D points will first be transformed to the camera frame of the used camera. This is done with the inverse of the pose as derived before.\n",
    "2. After that, the projection matrix will transform the 3D points from 3D space to the 2D image plane coordinates (also known as normalized image coordinates). This is done with:\n",
    "$$ \\tilde{\\mathbf{p}} = \\begin{pmatrix} f & 0 & 0 & 0 \\\\ 0 & f & 0 & 0 \\\\ 0 & 0 & 1 & 0 \\end{pmatrix} \\tilde{\\mathbf{P}} $$ \n",
    "where $\\mathbf{p}$ is our 2D point in normalized image coordinates, $\\mathbf{P}$ is our 3D point, and the tilde ($\\tilde{}$) notation indicates that we expres the point in its homogeneous form.\n",
    "3. Finally another transformation will scale the normalized image coordinates to the pixel coordinate system and translate the origin to the top left pixel which was our $(0,0)$. This is done by the following transformation (also known as a homography):\n",
    "$$ \\tilde{\\mathbf{p}}_{\\mathrm{pixel}} = \\begin{pmatrix} \\frac{1}{\\rho_w} & 0 & u_0 \\\\ 0 & \\frac{1}{\\rho_h} & v_0 \\\\ 0 & 0 & 1 \\end{pmatrix} $$\n",
    "\n",
    "This results in the following camera matrix:\n",
    "$$ \\mathbf{C} = \\begin{pmatrix} \\frac{f}{\\rho_w} & 0 & u_0 & 0 \\\\ 0 & \\frac{f}{\\rho_h} & v_0 & 0 \\\\ 0 & 0 & 1 & 0 \\end{pmatrix} \\mathbf{T}^{-1} $$\n",
    "\n",
    "See below for a definition of frames. (source: *Robotics, Vision and Control - Peter Corke*, DOI [10.1007/978-3-642-20144-8](https://link.springer.com/book/10.1007%2F978-3-642-20144-8), figure 11.5, p. 256).\n",
    "\n",
    "<img src=\"img/pixel_cs.png\" width=\"60%\"/>\n",
    "\n",
    "For the first camera, where $\\mathbf{T}$ is the identity matrix, that is:"
   ]
  },
  {
   "cell_type": "code",
   "execution_count": 8,
   "metadata": {},
   "outputs": [
    {
     "data": {
      "text/plain": [
       "array([[343.12110728,   0.        , 160.        ,   0.        ],\n",
       "       [  0.        , 343.12110728, 120.        ,   0.        ],\n",
       "       [  0.        ,   0.        ,   1.        ,   0.        ]])"
      ]
     },
     "execution_count": 8,
     "metadata": {},
     "output_type": "execute_result"
    }
   ],
   "source": [
    "T_pix = np.array([[1/rho_w, 0, u_0],\n",
    "                  [0, 1/rho_h, v_0],\n",
    "                  [0, 0, 1]])  # Technically not a projection because it also scales\n",
    "\n",
    "T_proj = np.array([[f, 0, 0, 0],\n",
    "                   [0, f, 0, 0],\n",
    "                   [0, 0, 1, 0]])  # Technically not a transformation either but a projection\n",
    "\n",
    "C1 = np.dot(T_pix, T_proj)\n",
    "C1"
   ]
  },
  {
   "cell_type": "markdown",
   "metadata": {},
   "source": [
    "For the second camera, the first part is the same, but we have to multiply with the inverse of its pose:"
   ]
  },
  {
   "cell_type": "code",
   "execution_count": 9,
   "metadata": {},
   "outputs": [
    {
     "data": {
      "text/plain": [
       "array([[ 3.43121107e+02,  0.00000000e+00,  1.60000000e+02,\n",
       "        -2.05872664e+03],\n",
       "       [ 0.00000000e+00,  3.43121107e+02,  1.20000000e+02,\n",
       "         0.00000000e+00],\n",
       "       [ 0.00000000e+00,  0.00000000e+00,  1.00000000e+00,\n",
       "         0.00000000e+00]])"
      ]
     },
     "execution_count": 9,
     "metadata": {},
     "output_type": "execute_result"
    }
   ],
   "source": [
    "C2 = np.dot(C1, T_inv)\n",
    "C2"
   ]
  },
  {
   "cell_type": "markdown",
   "metadata": {},
   "source": [
    "Next the point of interest in the 3D space is defined (I like to use a simple class for this to make some things easier in calculating). The coordinates of the point can be chosen freely, but for now only the $u$-coordinate of the projection is taken into account, which means that only the $x$- and $z$-coordinate of the 3D point are important."
   ]
  },
  {
   "cell_type": "code",
   "execution_count": 10,
   "metadata": {},
   "outputs": [],
   "source": [
    "class Position(object):\n",
    "\n",
    "    # To make numpy aware of array multiplication\n",
    "    __array_priority__ = 100\n",
    "    \n",
    "    def __init__ (self, p):\n",
    "        assert len(p) in [1, 2, 3], 'p should be a tuple with length 1, 2, or 3'\n",
    "        if len(p) == 3:\n",
    "            self._p = np.array([[p[0]], [p[1]], [p[2]]]).reshape((3, 1))\n",
    "        elif len(p) == 2:\n",
    "            self._p = np.array([[p[0]], [p[1]]]).reshape((2, 1))\n",
    "        elif len(p) == 1:\n",
    "            self._p = np.array([[p[0]]]).reshape((1, 1))\n",
    "\n",
    "    @property\n",
    "    def x(self):\n",
    "        return self._p[0].item()\n",
    "    \n",
    "    @x.setter\n",
    "    def x(self, val):\n",
    "        self._p[0] = val\n",
    "        \n",
    "    @property\n",
    "    def y(self):\n",
    "        return self._p[1].item()\n",
    "    \n",
    "    @y.setter\n",
    "    def y(self, val):\n",
    "        self._p[1] = val\n",
    "    \n",
    "    @property\n",
    "    def z(self):\n",
    "        return self._p[2].item()\n",
    "    \n",
    "    @z.setter\n",
    "    def z(self, val):\n",
    "        self._p[2] = val\n",
    "        \n",
    "    def as_homogeneous(self):\n",
    "        return np.append(self._p, [[1]], axis=0)\n",
    "        \n",
    "    def __rmul__(self, other):\n",
    "        # Get homogeneous multiplication\n",
    "        res = np.dot(other, self.as_homogeneous())\n",
    "        # Return only the first coordinates, divided by last to switch back to non-homogeneous\n",
    "        return res[:-1] / res[-1]\n",
    "    \n",
    "    def __repr__(self):\n",
    "        return self._p.__repr__()\n",
    "        \n",
    "P = Position([3, 0, 10])"
   ]
  },
  {
   "cell_type": "markdown",
   "metadata": {},
   "source": [
    "Now to check which pixel will light up for the chosen point, we only have to multiply with the camera matrix of both cameras. We are only interested in the column, the $u$ coordinate, so we take the first entry of the result (use `.item()` to get the numeric value instead of a 1x1 matrix containing the value)."
   ]
  },
  {
   "cell_type": "code",
   "execution_count": 11,
   "metadata": {},
   "outputs": [],
   "source": [
    "u1 = (C1*P)[0].item()\n",
    "u2 = (C2*P)[0].item()"
   ]
  },
  {
   "cell_type": "markdown",
   "metadata": {},
   "source": [
    "Now to get the limits of the pixel, we need to round the sub-pixel value up and down. We define the upper and lower limit as `uill` and `uiul` respectively, where `i` indicates the camera."
   ]
  },
  {
   "cell_type": "code",
   "execution_count": 12,
   "metadata": {},
   "outputs": [],
   "source": [
    "u1ll, u1ul = np.floor(u1), np.ceil(u1)\n",
    "u2ll, u2ul = np.floor(u2), np.ceil(u2)"
   ]
  },
  {
   "cell_type": "markdown",
   "metadata": {},
   "source": [
    "From the pixel values we need to back to the spatial domain. We can do this with the inverse of the `T_pix` matrix we defined earlier. This is not technically a Euclidian transformation because it also involves a scaling (and luckily no rotation). Therefore the previously defined function `inverse_transformation()` is not applicable and we have to determine the inverse manually.\n",
    "\n",
    "We know that:\n",
    "$$ T_{\\mathrm{pix}} = \\begin{pmatrix} \\frac{1}{\\rho_w} & 0 & u_0 \\\\ 0 & \\frac{1}{\\rho_h} & v_0 \\\\ 0 & 0 & 1 \\end{pmatrix} $$\n",
    "So intuitively its inverse would be:\n",
    "$$ T_{\\mathrm{pix}}^{-1} = \\begin{pmatrix} \\rho_w & 0 & -\\rho_wu_0 \\\\ 0 & \\rho_h & -\\rho_hv_0 \\\\ 0 & 0 & 1 \\end{pmatrix} $$"
   ]
  },
  {
   "cell_type": "code",
   "execution_count": 13,
   "metadata": {},
   "outputs": [
    {
     "data": {
      "text/plain": [
       "array([[ 1.25320183e-05,  0.00000000e+00, -2.00512293e-03],\n",
       "       [ 0.00000000e+00,  1.25320183e-05, -1.50384220e-03],\n",
       "       [ 0.00000000e+00,  0.00000000e+00,  1.00000000e+00]])"
      ]
     },
     "execution_count": 13,
     "metadata": {},
     "output_type": "execute_result"
    }
   ],
   "source": [
    "T_pix_inv = np.array([[rho_w, 0, -rho_w*u_0],\n",
    "                      [0, rho_h, -rho_h*v_0],\n",
    "                      [0, 0, 1]])\n",
    "T_pix_inv"
   ]
  },
  {
   "cell_type": "markdown",
   "metadata": {},
   "source": [
    "To check if it really is the inverse, let's see if the product equals identity:"
   ]
  },
  {
   "cell_type": "code",
   "execution_count": 14,
   "metadata": {},
   "outputs": [
    {
     "data": {
      "text/plain": [
       "True"
      ]
     },
     "execution_count": 14,
     "metadata": {},
     "output_type": "execute_result"
    }
   ],
   "source": [
    "np.array_equal(np.dot(T_pix_inv, T_pix), np.eye(3))"
   ]
  },
  {
   "cell_type": "markdown",
   "metadata": {},
   "source": [
    "Now to determine the upper and lower limit in terms of the image plane (so in meters), we multiply the limits (in homogeneous form where we set the $v$-coordinate to equal $v_0$ because we are simply not interested in that now) with the inverse of `T_pix`."
   ]
  },
  {
   "cell_type": "code",
   "execution_count": 15,
   "metadata": {},
   "outputs": [],
   "source": [
    "p1ll = T_pix_inv * Position([u1ll, v_0])\n",
    "p1ul = T_pix_inv * Position([u1ul, v_0])\n",
    "p2ll = T_pix_inv * Position([u2ll, v_0])\n",
    "p2ul = T_pix_inv * Position([u2ul, v_0])"
   ]
  },
  {
   "cell_type": "markdown",
   "metadata": {},
   "source": [
    "What we have now, is four 2D coordinates. If we refer to the geometry of the image plane again:\n",
    "\n",
    "(source: *Robotics, Vision and Control - Peter Corke*, DOI [10.1007/978-3-642-20144-8](https://link.springer.com/book/10.1007%2F978-3-642-20144-8), figure 11.5, p. 256).\n",
    "\n",
    "<img src=\"img/pixel_cs.png\" width=\"60%\"/>\n",
    "\n",
    "We can see that the 2D point can be seen in 3D as a vector pointing from the camera frame origin, to the 2D projection. This means that if we plug in the focal length $f$ as $z$-coordinate, we get the direction vector of the ray that goes through the actual 3D point $\\mathbf{P}$ that we detected with our cameras.\n",
    "\n",
    "In the 2D stereo setup we use the upper and lower limits of the pixels translate to the purple bundles:\n",
    "\n",
    "<img src=\"img/stereo_setup.svg\" width=\"80%\"/>\n",
    "\n",
    "Now we only have to find the point where the top two rays (`p1ll` and `p2ul`) cross and where the bottom two rays (`p1ul` and `p2ll`) cross. Because we are working the $xz$-plane, we can throw away the $y$ coordinate for now."
   ]
  },
  {
   "cell_type": "code",
   "execution_count": 16,
   "metadata": {},
   "outputs": [],
   "source": [
    "p1ll = p1ll[0].item()\n",
    "p1ul = p1ul[0].item()\n",
    "p2ll = p2ll[0].item()\n",
    "p2ul = p2ul[0].item()"
   ]
  },
  {
   "cell_type": "markdown",
   "metadata": {},
   "source": [
    "To clarify the following text we number the rays from left to right at $z=f$, so $l_1$ crosses the origin and point $(p_{1ll}, f)$, and $l_2$ crosses the origin and the point $(p_{1ul}, f)$, et cetera."
   ]
  },
  {
   "cell_type": "markdown",
   "metadata": {},
   "source": [
    "We know that all lines cross the the image plane at $z=f$. For $l_1$ and $l_2$ we also know that they cross the origin. These lines can thus be expressed in $z=\\alpha x+\\beta$ (standard line equation but with $z$ instead of $y$) where $\\beta$ is 0 because they cross the origin:\n",
    "\n",
    "$$ l_1 := \\frac{f}{p_{1ll}}x $$\n",
    "$$ l_2 := \\frac{f}{p_{1ul}}x $$\n",
    "\n",
    "For $l_3$ and $l_4$ we have to take the displacement of camera 2 into account so the two points that define $l_3$ are $(p_{2ll} + b, f)$ and $(b, 0)$. Substituting these into the standard line equation gives:\n",
    "\n",
    "$$ l_3 := \\frac{f}{p_{2ll}} x + \\beta $$\n",
    "\n",
    "Solve for $\\beta$ by inserting one of the points:\n",
    "\n",
    "$$ 0 = \\frac{f}{p_{2ll}} b + \\beta $$\n",
    "$$ \\beta = -\\frac{bf}{p_{2ll}} $$\n",
    "\n",
    "So:\n",
    "\n",
    "$$ l_3 := \\frac{f}{p_{2ll}} x -\\frac{bf}{p_{2ll}} $$\n",
    "\n",
    "For $l_4$ these points are $(p_{2ul} + b, f)$ and $(b, 0)$. This gives:\n",
    "\n",
    "$$ l_4 := \\frac{f}{p_{2ul}} x - \\frac{bf}{p_{2ul}} $$\n",
    "\n",
    "Now we would like to get the intersection of $l_1$ and $l_4$, and the intersection of $l_2$ and $l_3$. Let's start with the first (note that we have chosen $\\mathbf{P}$ to lie in the middle of the two cameras, intuition tells us already that the intersections we're looking for have the same $x$-coordinate, but to make this script also applicable for other points we solve for $x$ anyway):\n",
    "\n",
    "$$ \\frac{f}{p_{1ll}}x = \\frac{f}{p_{2ul}}x - \\frac{bf}{p_{2ul}} $$\n",
    "\n",
    "$$ x\\left(\\frac{f}{p_{1ll}} - \\frac{f}{p_{2ul}}\\right) = -\\frac{bf}{p_{2ul}} $$\n",
    "\n",
    "$$ x = -\\frac{bf}{p_{2ul}\\left( \\frac{f}{p_{1ll}} - \\frac{f}{p_{2ul}}\\right)} $$"
   ]
  },
  {
   "cell_type": "code",
   "execution_count": 17,
   "metadata": {},
   "outputs": [],
   "source": [
    "x_upper = - b * f / ( p2ul * (f/p1ll - f/p2ul ) )\n",
    "x_lower = - b * f / ( p2ll * (f/p1ul - f/p2ll ) )"
   ]
  },
  {
   "cell_type": "markdown",
   "metadata": {},
   "source": [
    "Now simply plugin the values for $x$ we found into either of the line equations:"
   ]
  },
  {
   "cell_type": "code",
   "execution_count": 18,
   "metadata": {},
   "outputs": [
    {
     "data": {
      "text/plain": [
       "10.091797272986158"
      ]
     },
     "execution_count": 18,
     "metadata": {},
     "output_type": "execute_result"
    }
   ],
   "source": [
    "z_upper = f / p1ll * x_upper\n",
    "z_upper"
   ]
  },
  {
   "cell_type": "code",
   "execution_count": 19,
   "metadata": {},
   "outputs": [
    {
     "data": {
      "text/plain": [
       "9.993818658685322"
      ]
     },
     "execution_count": 19,
     "metadata": {},
     "output_type": "execute_result"
    }
   ],
   "source": [
    "z_lower = f / p1ul * x_lower\n",
    "z_lower"
   ]
  },
  {
   "cell_type": "markdown",
   "metadata": {},
   "source": [
    "The depth resolution can now be defined as the difference between the $z$ coordinates:"
   ]
  },
  {
   "cell_type": "code",
   "execution_count": 20,
   "metadata": {},
   "outputs": [
    {
     "name": "stdout",
     "output_type": "stream",
     "text": [
      "That's a lot of code just to find depth resolution of 0.09797861430083543m\n"
     ]
    }
   ],
   "source": [
    "R_z = z_upper - z_lower\n",
    "print(\"That's a lot of code just to find depth resolution of {}m\".format(R_z))"
   ]
  }
 ],
 "metadata": {
  "kernelspec": {
   "display_name": "Python 3.7.6 64-bit ('cv-dev': conda)",
   "language": "python",
   "name": "python37664bitcvdevconda3a463001af9843c8b6f987bcf81dd065"
  },
  "language_info": {
   "codemirror_mode": {
    "name": "ipython",
    "version": 3
   },
   "file_extension": ".py",
   "mimetype": "text/x-python",
   "name": "python",
   "nbconvert_exporter": "python",
   "pygments_lexer": "ipython3",
   "version": "3.7.6"
  }
 },
 "nbformat": 4,
 "nbformat_minor": 4
}
